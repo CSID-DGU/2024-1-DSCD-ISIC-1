{
 "cells": [
  {
   "cell_type": "code",
   "execution_count": 2,
   "metadata": {},
   "outputs": [
    {
     "name": "stdout",
     "output_type": "stream",
     "text": [
      "         job                                               text\n",
      "0    백엔드 개발자  기술 스택: Python, Java, C, Django, Spring Boot, F...\n",
      "1  프론트엔드 개발자  기술 스택: JavaScript, TypeScript, React, Python, ...\n",
      "2    백엔드 개발자  기술 스택: Java\\r\\nSpring Boot\\r\\nJPA\\r\\nTypeScrip...\n",
      "3    백엔드 개발자  기술 스택: Java\\r\\nKotlin\\r\\nJavaScript\\r\\nTypeScr...\n",
      "4    풀스택 개발자  기술 스택: JavaScript, Docker, Elasticsearch, Vue....\n"
     ]
    },
    {
     "name": "stderr",
     "output_type": "stream",
     "text": [
      "Some weights of RobertaForSequenceClassification were not initialized from the model checkpoint at klue/roberta-large and are newly initialized: ['classifier.out_proj.bias', 'classifier.dense.weight', 'classifier.dense.bias', 'classifier.out_proj.weight']\n",
      "You should probably TRAIN this model on a down-stream task to be able to use it for predictions and inference.\n"
     ]
    },
    {
     "data": {
      "application/vnd.jupyter.widget-view+json": {
       "model_id": "bfb7fd12290048d9a0daf83fdefaae10",
       "version_major": 2,
       "version_minor": 0
      },
      "text/plain": [
       "Map:   0%|          | 0/564 [00:00<?, ? examples/s]"
      ]
     },
     "metadata": {},
     "output_type": "display_data"
    },
    {
     "data": {
      "application/vnd.jupyter.widget-view+json": {
       "model_id": "b190b0a5c20e41b087d35965da0592fb",
       "version_major": 2,
       "version_minor": 0
      },
      "text/plain": [
       "Map:   0%|          | 0/141 [00:00<?, ? examples/s]"
      ]
     },
     "metadata": {},
     "output_type": "display_data"
    },
    {
     "data": {
      "application/vnd.jupyter.widget-view+json": {
       "model_id": "309665bea3ff4b88a805a2f5c8dc77de",
       "version_major": 2,
       "version_minor": 0
      },
      "text/plain": [
       "  0%|          | 0/720 [00:00<?, ?it/s]"
      ]
     },
     "metadata": {},
     "output_type": "display_data"
    },
    {
     "data": {
      "application/vnd.jupyter.widget-view+json": {
       "model_id": "e25e23ed7bc64ff9b749418f69cb9221",
       "version_major": 2,
       "version_minor": 0
      },
      "text/plain": [
       "  0%|          | 0/3 [00:00<?, ?it/s]"
      ]
     },
     "metadata": {},
     "output_type": "display_data"
    },
    {
     "name": "stdout",
     "output_type": "stream",
     "text": [
      "{'eval_loss': 1.4532681703567505, 'eval_accuracy': 0.4397163120567376, 'eval_f1_macro': 0.07635467980295567, 'eval_f1_weighted': 0.2685951856898299, 'eval_f1_micro': 0.4397163120567376, 'eval_runtime': 2.3772, 'eval_samples_per_second': 59.314, 'eval_steps_per_second': 1.262, 'epoch': 1.0}\n"
     ]
    },
    {
     "data": {
      "application/vnd.jupyter.widget-view+json": {
       "model_id": "7631462bbf76408f99d9bef2f11b9de7",
       "version_major": 2,
       "version_minor": 0
      },
      "text/plain": [
       "  0%|          | 0/3 [00:00<?, ?it/s]"
      ]
     },
     "metadata": {},
     "output_type": "display_data"
    },
    {
     "name": "stdout",
     "output_type": "stream",
     "text": [
      "{'eval_loss': 1.0507887601852417, 'eval_accuracy': 0.723404255319149, 'eval_f1_macro': 0.20230594758064516, 'eval_f1_weighted': 0.6387911805078929, 'eval_f1_micro': 0.723404255319149, 'eval_runtime': 2.3911, 'eval_samples_per_second': 58.969, 'eval_steps_per_second': 1.255, 'epoch': 2.0}\n"
     ]
    },
    {
     "data": {
      "application/vnd.jupyter.widget-view+json": {
       "model_id": "999c54604d344551926fa9854e0d66fd",
       "version_major": 2,
       "version_minor": 0
      },
      "text/plain": [
       "  0%|          | 0/3 [00:00<?, ?it/s]"
      ]
     },
     "metadata": {},
     "output_type": "display_data"
    },
    {
     "name": "stdout",
     "output_type": "stream",
     "text": [
      "{'eval_loss': 0.8900315165519714, 'eval_accuracy': 0.75177304964539, 'eval_f1_macro': 0.21155989771162548, 'eval_f1_weighted': 0.6638792666077936, 'eval_f1_micro': 0.75177304964539, 'eval_runtime': 2.3364, 'eval_samples_per_second': 60.35, 'eval_steps_per_second': 1.284, 'epoch': 3.0}\n"
     ]
    },
    {
     "data": {
      "application/vnd.jupyter.widget-view+json": {
       "model_id": "cb3856fbb5254e53850a8d7c9174d2b0",
       "version_major": 2,
       "version_minor": 0
      },
      "text/plain": [
       "  0%|          | 0/3 [00:00<?, ?it/s]"
      ]
     },
     "metadata": {},
     "output_type": "display_data"
    },
    {
     "name": "stdout",
     "output_type": "stream",
     "text": [
      "{'eval_loss': 0.835749089717865, 'eval_accuracy': 0.7588652482269503, 'eval_f1_macro': 0.34233853394927216, 'eval_f1_weighted': 0.7191114754159164, 'eval_f1_micro': 0.7588652482269503, 'eval_runtime': 2.3422, 'eval_samples_per_second': 60.2, 'eval_steps_per_second': 1.281, 'epoch': 4.0}\n"
     ]
    },
    {
     "data": {
      "application/vnd.jupyter.widget-view+json": {
       "model_id": "56900bad30304867b44ef424e3a7999c",
       "version_major": 2,
       "version_minor": 0
      },
      "text/plain": [
       "  0%|          | 0/3 [00:00<?, ?it/s]"
      ]
     },
     "metadata": {},
     "output_type": "display_data"
    },
    {
     "name": "stdout",
     "output_type": "stream",
     "text": [
      "{'eval_loss': 0.8113102316856384, 'eval_accuracy': 0.7943262411347518, 'eval_f1_macro': 0.36745032545392253, 'eval_f1_weighted': 0.7254179635015392, 'eval_f1_micro': 0.7943262411347518, 'eval_runtime': 2.205, 'eval_samples_per_second': 63.945, 'eval_steps_per_second': 1.361, 'epoch': 5.0}\n"
     ]
    },
    {
     "data": {
      "application/vnd.jupyter.widget-view+json": {
       "model_id": "fa22173811054a01b5d1ad68d655fb68",
       "version_major": 2,
       "version_minor": 0
      },
      "text/plain": [
       "  0%|          | 0/3 [00:00<?, ?it/s]"
      ]
     },
     "metadata": {},
     "output_type": "display_data"
    },
    {
     "name": "stdout",
     "output_type": "stream",
     "text": [
      "{'eval_loss': 0.8153453469276428, 'eval_accuracy': 0.7446808510638298, 'eval_f1_macro': 0.3374521072796935, 'eval_f1_weighted': 0.7027335032247469, 'eval_f1_micro': 0.7446808510638298, 'eval_runtime': 2.236, 'eval_samples_per_second': 63.059, 'eval_steps_per_second': 1.342, 'epoch': 6.0}\n"
     ]
    },
    {
     "data": {
      "application/vnd.jupyter.widget-view+json": {
       "model_id": "ab0dffc367314043bfbd87a2428da256",
       "version_major": 2,
       "version_minor": 0
      },
      "text/plain": [
       "  0%|          | 0/3 [00:00<?, ?it/s]"
      ]
     },
     "metadata": {},
     "output_type": "display_data"
    },
    {
     "name": "stdout",
     "output_type": "stream",
     "text": [
      "{'eval_loss': 0.8190867304801941, 'eval_accuracy': 0.75177304964539, 'eval_f1_macro': 0.3272873509062224, 'eval_f1_weighted': 0.731749774621102, 'eval_f1_micro': 0.75177304964539, 'eval_runtime': 2.2444, 'eval_samples_per_second': 62.823, 'eval_steps_per_second': 1.337, 'epoch': 7.0}\n"
     ]
    },
    {
     "data": {
      "application/vnd.jupyter.widget-view+json": {
       "model_id": "68063a53158c47de90f914bff36175e5",
       "version_major": 2,
       "version_minor": 0
      },
      "text/plain": [
       "  0%|          | 0/3 [00:00<?, ?it/s]"
      ]
     },
     "metadata": {},
     "output_type": "display_data"
    },
    {
     "name": "stdout",
     "output_type": "stream",
     "text": [
      "{'eval_loss': 0.8044435977935791, 'eval_accuracy': 0.7943262411347518, 'eval_f1_macro': 0.4559577522559475, 'eval_f1_weighted': 0.7677642734455957, 'eval_f1_micro': 0.7943262411347518, 'eval_runtime': 2.163, 'eval_samples_per_second': 65.187, 'eval_steps_per_second': 1.387, 'epoch': 8.0}\n"
     ]
    },
    {
     "data": {
      "application/vnd.jupyter.widget-view+json": {
       "model_id": "afbfe319996e458290d103c298f2287f",
       "version_major": 2,
       "version_minor": 0
      },
      "text/plain": [
       "  0%|          | 0/3 [00:00<?, ?it/s]"
      ]
     },
     "metadata": {},
     "output_type": "display_data"
    },
    {
     "name": "stdout",
     "output_type": "stream",
     "text": [
      "{'eval_loss': 1.0600979328155518, 'eval_accuracy': 0.6595744680851063, 'eval_f1_macro': 0.34609614802913774, 'eval_f1_weighted': 0.6836107974954213, 'eval_f1_micro': 0.6595744680851063, 'eval_runtime': 2.4103, 'eval_samples_per_second': 58.499, 'eval_steps_per_second': 1.245, 'epoch': 9.0}\n"
     ]
    },
    {
     "data": {
      "application/vnd.jupyter.widget-view+json": {
       "model_id": "97c2f0953f204f769e1e2bbc1fb19286",
       "version_major": 2,
       "version_minor": 0
      },
      "text/plain": [
       "  0%|          | 0/3 [00:00<?, ?it/s]"
      ]
     },
     "metadata": {},
     "output_type": "display_data"
    },
    {
     "name": "stdout",
     "output_type": "stream",
     "text": [
      "{'eval_loss': 0.9134504199028015, 'eval_accuracy': 0.7943262411347518, 'eval_f1_macro': 0.5073488645857067, 'eval_f1_weighted': 0.7709794042380828, 'eval_f1_micro': 0.7943262411347518, 'eval_runtime': 2.3387, 'eval_samples_per_second': 60.289, 'eval_steps_per_second': 1.283, 'epoch': 10.0}\n"
     ]
    },
    {
     "data": {
      "application/vnd.jupyter.widget-view+json": {
       "model_id": "4d1725e4db8e4bf587a1eb8b9718c454",
       "version_major": 2,
       "version_minor": 0
      },
      "text/plain": [
       "  0%|          | 0/3 [00:00<?, ?it/s]"
      ]
     },
     "metadata": {},
     "output_type": "display_data"
    },
    {
     "name": "stdout",
     "output_type": "stream",
     "text": [
      "{'eval_loss': 1.0947916507720947, 'eval_accuracy': 0.7588652482269503, 'eval_f1_macro': 0.5606467494486256, 'eval_f1_weighted': 0.7524790114611601, 'eval_f1_micro': 0.7588652482269503, 'eval_runtime': 2.3474, 'eval_samples_per_second': 60.067, 'eval_steps_per_second': 1.278, 'epoch': 11.0}\n"
     ]
    },
    {
     "data": {
      "application/vnd.jupyter.widget-view+json": {
       "model_id": "039c2ff3a2864b20a60ac7e8ea8d6ab9",
       "version_major": 2,
       "version_minor": 0
      },
      "text/plain": [
       "  0%|          | 0/3 [00:00<?, ?it/s]"
      ]
     },
     "metadata": {},
     "output_type": "display_data"
    },
    {
     "name": "stdout",
     "output_type": "stream",
     "text": [
      "{'eval_loss': 1.0631508827209473, 'eval_accuracy': 0.7801418439716312, 'eval_f1_macro': 0.4114584731481067, 'eval_f1_weighted': 0.7624811874760232, 'eval_f1_micro': 0.7801418439716312, 'eval_runtime': 2.3413, 'eval_samples_per_second': 60.223, 'eval_steps_per_second': 1.281, 'epoch': 12.0}\n"
     ]
    },
    {
     "data": {
      "application/vnd.jupyter.widget-view+json": {
       "model_id": "1c85a65a5ed94bda86cb5e4390fcde56",
       "version_major": 2,
       "version_minor": 0
      },
      "text/plain": [
       "  0%|          | 0/3 [00:00<?, ?it/s]"
      ]
     },
     "metadata": {},
     "output_type": "display_data"
    },
    {
     "name": "stdout",
     "output_type": "stream",
     "text": [
      "{'eval_loss': 1.287196159362793, 'eval_accuracy': 0.75177304964539, 'eval_f1_macro': 0.48362806287563564, 'eval_f1_weighted': 0.7499581943911628, 'eval_f1_micro': 0.75177304964539, 'eval_runtime': 2.3229, 'eval_samples_per_second': 60.699, 'eval_steps_per_second': 1.291, 'epoch': 13.0}\n",
      "{'loss': 0.5654, 'learning_rate': 5e-05, 'epoch': 13.89}\n"
     ]
    },
    {
     "data": {
      "application/vnd.jupyter.widget-view+json": {
       "model_id": "d787a3b1662e4252acab5792461d6142",
       "version_major": 2,
       "version_minor": 0
      },
      "text/plain": [
       "  0%|          | 0/3 [00:00<?, ?it/s]"
      ]
     },
     "metadata": {},
     "output_type": "display_data"
    },
    {
     "name": "stdout",
     "output_type": "stream",
     "text": [
      "{'eval_loss': 1.4910178184509277, 'eval_accuracy': 0.6879432624113475, 'eval_f1_macro': 0.4713073219589442, 'eval_f1_weighted': 0.7021723848713496, 'eval_f1_micro': 0.6879432624113475, 'eval_runtime': 2.3379, 'eval_samples_per_second': 60.31, 'eval_steps_per_second': 1.283, 'epoch': 14.0}\n"
     ]
    },
    {
     "data": {
      "application/vnd.jupyter.widget-view+json": {
       "model_id": "719d6ca11596426f95700a29f770ecd5",
       "version_major": 2,
       "version_minor": 0
      },
      "text/plain": [
       "  0%|          | 0/3 [00:00<?, ?it/s]"
      ]
     },
     "metadata": {},
     "output_type": "display_data"
    },
    {
     "name": "stdout",
     "output_type": "stream",
     "text": [
      "{'eval_loss': 1.516188144683838, 'eval_accuracy': 0.723404255319149, 'eval_f1_macro': 0.508532932088656, 'eval_f1_weighted': 0.6972449823466612, 'eval_f1_micro': 0.723404255319149, 'eval_runtime': 2.3146, 'eval_samples_per_second': 60.918, 'eval_steps_per_second': 1.296, 'epoch': 15.0}\n"
     ]
    },
    {
     "data": {
      "application/vnd.jupyter.widget-view+json": {
       "model_id": "604ca75c9dc74d6e9a6bd63e99881511",
       "version_major": 2,
       "version_minor": 0
      },
      "text/plain": [
       "  0%|          | 0/3 [00:00<?, ?it/s]"
      ]
     },
     "metadata": {},
     "output_type": "display_data"
    },
    {
     "name": "stdout",
     "output_type": "stream",
     "text": [
      "{'eval_loss': 1.6791754961013794, 'eval_accuracy': 0.7375886524822695, 'eval_f1_macro': 0.47870314127039226, 'eval_f1_weighted': 0.7347898065338818, 'eval_f1_micro': 0.7375886524822695, 'eval_runtime': 2.3316, 'eval_samples_per_second': 60.472, 'eval_steps_per_second': 1.287, 'epoch': 16.0}\n"
     ]
    },
    {
     "data": {
      "application/vnd.jupyter.widget-view+json": {
       "model_id": "cf0ab3bc6dc7459abb85b74c56ccc0fd",
       "version_major": 2,
       "version_minor": 0
      },
      "text/plain": [
       "  0%|          | 0/3 [00:00<?, ?it/s]"
      ]
     },
     "metadata": {},
     "output_type": "display_data"
    },
    {
     "name": "stdout",
     "output_type": "stream",
     "text": [
      "{'eval_loss': 1.4186511039733887, 'eval_accuracy': 0.7872340425531915, 'eval_f1_macro': 0.48169204568222795, 'eval_f1_weighted': 0.766201858380546, 'eval_f1_micro': 0.7872340425531915, 'eval_runtime': 2.5301, 'eval_samples_per_second': 55.729, 'eval_steps_per_second': 1.186, 'epoch': 17.0}\n"
     ]
    },
    {
     "data": {
      "application/vnd.jupyter.widget-view+json": {
       "model_id": "630ebf5a2eca463e99aedb19376fac1f",
       "version_major": 2,
       "version_minor": 0
      },
      "text/plain": [
       "  0%|          | 0/3 [00:00<?, ?it/s]"
      ]
     },
     "metadata": {},
     "output_type": "display_data"
    },
    {
     "name": "stdout",
     "output_type": "stream",
     "text": [
      "{'eval_loss': 1.53592050075531, 'eval_accuracy': 0.8085106382978723, 'eval_f1_macro': 0.4093992732521872, 'eval_f1_weighted': 0.7794597605568535, 'eval_f1_micro': 0.8085106382978723, 'eval_runtime': 2.5201, 'eval_samples_per_second': 55.95, 'eval_steps_per_second': 1.19, 'epoch': 18.0}\n"
     ]
    },
    {
     "data": {
      "application/vnd.jupyter.widget-view+json": {
       "model_id": "fe5d521f40364affae61753473061e09",
       "version_major": 2,
       "version_minor": 0
      },
      "text/plain": [
       "  0%|          | 0/3 [00:00<?, ?it/s]"
      ]
     },
     "metadata": {},
     "output_type": "display_data"
    },
    {
     "name": "stdout",
     "output_type": "stream",
     "text": [
      "{'eval_loss': 1.4733200073242188, 'eval_accuracy': 0.7801418439716312, 'eval_f1_macro': 0.4334761385470219, 'eval_f1_weighted': 0.7658615435779639, 'eval_f1_micro': 0.7801418439716312, 'eval_runtime': 2.4546, 'eval_samples_per_second': 57.443, 'eval_steps_per_second': 1.222, 'epoch': 19.0}\n"
     ]
    },
    {
     "data": {
      "application/vnd.jupyter.widget-view+json": {
       "model_id": "ed7d98d9a64743ec9592be875def9753",
       "version_major": 2,
       "version_minor": 0
      },
      "text/plain": [
       "  0%|          | 0/3 [00:00<?, ?it/s]"
      ]
     },
     "metadata": {},
     "output_type": "display_data"
    },
    {
     "name": "stdout",
     "output_type": "stream",
     "text": [
      "{'eval_loss': 1.4708234071731567, 'eval_accuracy': 0.7801418439716312, 'eval_f1_macro': 0.4778756957328386, 'eval_f1_weighted': 0.7589941972920696, 'eval_f1_micro': 0.7801418439716312, 'eval_runtime': 2.4562, 'eval_samples_per_second': 57.405, 'eval_steps_per_second': 1.221, 'epoch': 20.0}\n",
      "{'train_runtime': 674.5137, 'train_samples_per_second': 16.723, 'train_steps_per_second': 1.067, 'train_loss': 0.41724361843532987, 'epoch': 20.0}\n"
     ]
    },
    {
     "data": {
      "application/vnd.jupyter.widget-view+json": {
       "model_id": "8a00791f2a1a4c198684307d8e64a66b",
       "version_major": 2,
       "version_minor": 0
      },
      "text/plain": [
       "  0%|          | 0/3 [00:00<?, ?it/s]"
      ]
     },
     "metadata": {},
     "output_type": "display_data"
    }
   ],
   "source": [
    "# Import necessary libraries\n",
    "import os\n",
    "import pandas as pd\n",
    "import re\n",
    "from sklearn.model_selection import train_test_split\n",
    "from datasets import Dataset\n",
    "from transformers import AutoTokenizer, AutoModelForSequenceClassification, Trainer, TrainingArguments\n",
    "from sklearn.metrics import precision_recall_fscore_support, accuracy_score\n",
    "import warnings\n",
    "warnings.filterwarnings('ignore')\n",
    "\n",
    "# Load the dataset\n",
    "df = pd.read_csv(\"../../data/job/rallit_text.csv\", quoting=2)\n",
    "print(df.head())\n",
    "\n",
    "# Map job labels to numbers and rename to 'labels' for compatibility with Hugging Face\n",
    "job_map = {\n",
    "    \"PM\": 0, \"Sales\": 1, \"데브옵스 엔지니어\": 2, \"데이터 분석가\": 3,\n",
    "    \"데이터 엔지니어\": 4, \"백엔드 개발자\": 5, \"풀스택 개발자\": 6, \"프론트엔드 개발자\": 7\n",
    "}\n",
    "df['labels'] = df['job'].map(job_map)\n",
    "df.dropna(inplace=True)\n",
    "\n",
    "# Clean text data\n",
    "def clean_text(text):\n",
    "    # Add your cleaning rules here\n",
    "    text = re.sub('[^가-힣a-zA-Z0-9]', ' ', text)\n",
    "    return text\n",
    "\n",
    "df['text'] = df['text'].apply(clean_text)\n",
    "\n",
    "# Split data into training and testing sets\n",
    "train_df, test_df = train_test_split(df, test_size=0.2, random_state=42)\n",
    "\n",
    "# Initialize tokenizer and model from Hugging Face\n",
    "tokenizer = AutoTokenizer.from_pretrained(\"klue/roberta-large\")\n",
    "model = AutoModelForSequenceClassification.from_pretrained(\"klue/roberta-large\", num_labels=len(job_map))\n",
    "\n",
    "# Prepare the datasets\n",
    "def tokenize_data(example):\n",
    "    model_inputs = tokenizer(example['text'], max_length=128, padding=\"max_length\", truncation=True)\n",
    "    model_inputs['labels'] = example['labels']\n",
    "    return model_inputs\n",
    "\n",
    "train_dataset = Dataset.from_pandas(train_df)\n",
    "test_dataset = Dataset.from_pandas(test_df)\n",
    "\n",
    "train_dataset = train_dataset.map(tokenize_data, batched=True)\n",
    "test_dataset = test_dataset.map(tokenize_data, batched=True)\n",
    "\n",
    "# Set up training arguments\n",
    "training_args = TrainingArguments(\n",
    "    output_dir='models/kor_base', #모델 저장\n",
    "    num_train_epochs=20,\n",
    "    per_device_train_batch_size=16,\n",
    "    per_device_eval_batch_size=64,\n",
    "    warmup_steps=500,\n",
    "    weight_decay=0.01,\n",
    "    evaluation_strategy=\"epoch\",\n",
    "    save_strategy=\"epoch\"\n",
    ")\n",
    "\n",
    "# Define a metrics function for evaluation\n",
    "def compute_metrics(pred):\n",
    "    labels = pred.label_ids\n",
    "    preds = pred.predictions.argmax(-1)\n",
    "    precision, recall, f1_macro, _ = precision_recall_fscore_support(labels, preds, average='macro')\n",
    "    _, _, f1_weighted, _ = precision_recall_fscore_support(labels, preds, average='weighted')\n",
    "    _, _, f1_micro, _ = precision_recall_fscore_support(labels, preds, average='micro')\n",
    "    accuracy = accuracy_score(labels, preds)\n",
    "    return {\n",
    "        \"accuracy\": accuracy,\n",
    "        \"f1_macro\": f1_macro,\n",
    "        \"f1_weighted\": f1_weighted,\n",
    "        \"f1_micro\": f1_micro\n",
    "    }\n",
    "\n",
    "# Initialize the Trainer\n",
    "trainer = Trainer(\n",
    "    model=model,\n",
    "    args=training_args,\n",
    "    train_dataset=train_dataset,\n",
    "    eval_dataset=test_dataset,\n",
    "    compute_metrics=compute_metrics\n",
    ")\n",
    "\n",
    "# Train and evaluate the model\n",
    "trainer.train()\n",
    "trainer.evaluate()"
   ]
  },
  {
   "cell_type": "code",
   "execution_count": null,
   "metadata": {},
   "outputs": [],
   "source": []
  }
 ],
 "metadata": {
  "kernelspec": {
   "display_name": "venv",
   "language": "python",
   "name": "python3"
  },
  "language_info": {
   "codemirror_mode": {
    "name": "ipython",
    "version": 3
   },
   "file_extension": ".py",
   "mimetype": "text/x-python",
   "name": "python",
   "nbconvert_exporter": "python",
   "pygments_lexer": "ipython3",
   "version": "3.11.5"
  }
 },
 "nbformat": 4,
 "nbformat_minor": 2
}
